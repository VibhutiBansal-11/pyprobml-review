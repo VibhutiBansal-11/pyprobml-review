{
  "cells": [
    {
      "cell_type": "code",
      "execution_count": null,
      "metadata": {
        "id": "hMylJdjIulS_"
      },
      "outputs": [],
      "source": [
        "try:\n",
        "    from probml_utils import savefig, latexify\n",
        "except ModuleNotFoundError :\n",
        "    print(\"probml_utils module not found\")"
      ]
    },
    {
      "cell_type": "code",
      "execution_count": 7,
      "metadata": {
        "id": "ALdrlenEySeD"
      },
      "outputs": [],
      "source": [
        "import jax\n",
        "import jax.numpy as jnp\n",
        "import matplotlib.pyplot as plt\n",
        "import seaborn as sns\n",
        "from probml_utils import savefig, latexify\n",
        "from jax.numpy.linalg import cholesky\n",
        "from jax.scipy.linalg import inv\n",
        "from scipy.stats import multivariate_normal"
      ]
    },
    {
      "cell_type": "code",
      "execution_count": 8,
      "metadata": {
        "id": "g-gO9CA6xwnF",
        "colab": {
          "base_uri": "https://localhost:8080/"
        },
        "outputId": "c329b66a-e55a-4996-e49c-246de2acd902"
      },
      "outputs": [
        {
          "output_type": "stream",
          "name": "stderr",
          "text": [
            "/usr/local/lib/python3.7/dist-packages/probml_utils/plotting.py:26: UserWarning: LATEXIFY environment variable not set, not latexifying\n",
            "  warnings.warn(\"LATEXIFY environment variable not set, not latexifying\")\n"
          ]
        }
      ],
      "source": [
        "latexify(width_scale_factor=2, fig_height=2)"
      ]
    },
    {
      "cell_type": "code",
      "source": [
        "def gaussSample(mu, sigma, n,key):\n",
        "    decomposition = cholesky(sigma)\n",
        "    normal_distribution = jax.random.normal(key,shape=(len(mu), n))\n",
        "    return jnp.dot(decomposition, normal_distribution).T + mu"
      ],
      "metadata": {
        "id": "Ve8rzQiw4Eui"
      },
      "execution_count": 9,
      "outputs": []
    },
    {
      "cell_type": "code",
      "source": [
        "def make_graph(x,muTrue,savename,title,fig=None,ax=None):\n",
        "  if ax is None:\n",
        "        fig, ax = plt.subplots()\n",
        "  ax.plot(x[:, 0], x[:, 1], \"o\", markersize=8, markerfacecolor=\"b\",label='Data Points')\n",
        "  ax.set_ylim([-1, 1])\n",
        "  ax.set_xlim([-1, 1])\n",
        "  ax.set_title(title)\n",
        "  ax.set_xlabel(\"$Coordinate 1$\")\n",
        "  ax.set_ylabel(\"$Coordinate 2$\")\n",
        "  plt.legend(loc=\"upper left\")\n",
        "  ax.plot(muTrue[0], muTrue[1], \"x\", linewidth=8, markerfacecolor=\"black\",markersize=20, color=\"k\",label='z')\n",
        "\n",
        "  sns.despine()\n",
        "  if len(savename) > 0:\n",
        "        savefig(savename)\n",
        "  return fig,ax"
      ],
      "metadata": {
        "id": "5kFAnywh2x9Q"
      },
      "execution_count": 10,
      "outputs": []
    },
    {
      "cell_type": "code",
      "source": [
        "def make_graph2(x1,x2,p,savename,title,fig=None,ax=None):\n",
        "  if ax is None:\n",
        "        fig, ax = plt.subplots()\n",
        "  CS=ax.contourf(x1,x2,p)\n",
        "  CB = fig.colorbar(CS, shrink=0.8,ax=ax)\n",
        "  ax.set_ylim([-1, 1])\n",
        "  ax.set_xlim([-1, 1])\n",
        "  ax.set_title(title)\n",
        "  ax.set_xlabel(\"$X_1$\")\n",
        "  ax.set_ylabel(\"$X_2$\")\n",
        "  sns.despine()\n",
        "  if len(savename) > 0:\n",
        "        savefig(savename)\n",
        "  return fig, ax"
      ],
      "metadata": {
        "id": "ATOm8injxRGb"
      },
      "execution_count": 11,
      "outputs": []
    },
    {
      "cell_type": "code",
      "execution_count": 12,
      "metadata": {
        "id": "A-zIn0L_yaAj",
        "colab": {
          "base_uri": "https://localhost:8080/",
          "height": 948
        },
        "outputId": "6afed697-61f0-4c84-a248-e32bd930068b"
      },
      "outputs": [
        {
          "output_type": "stream",
          "name": "stderr",
          "text": [
            "WARNING:absl:No GPU/TPU found, falling back to CPU. (Set TF_CPP_MIN_LOG_LEVEL=0 and rerun for more info.)\n",
            "/usr/local/lib/python3.7/dist-packages/probml_utils/plotting.py:79: UserWarning: set FIG_DIR environment variable to save figures\n",
            "  warnings.warn(\"set FIG_DIR environment variable to save figures\")\n"
          ]
        },
        {
          "output_type": "execute_result",
          "data": {
            "text/plain": [
              "(<Figure size 432x288 with 2 Axes>,\n",
              " <matplotlib.axes._subplots.AxesSubplot at 0x7ffadb560950>)"
            ]
          },
          "metadata": {},
          "execution_count": 12
        },
        {
          "output_type": "display_data",
          "data": {
            "text/plain": [
              "<Figure size 432x288 with 1 Axes>"
            ],
            "image/png": "[encoded data removed]"
          },
          "metadata": {
            "needs_background": "light"
          }
        },
        {
          "output_type": "display_data",
          "data": {
            "text/plain": [
              "<Figure size 432x288 with 2 Axes>"
            ],
            "image/png": "[encoded data removed]"
          },
          "metadata": {
            "needs_background": "light"
          }
        },
        {
          "output_type": "display_data",
          "data": {
            "text/plain": [
              "<Figure size 432x288 with 2 Axes>"
            ],
            "image/png": "[encoded data removed]"
          },
          "metadata": {
            "needs_background": "light"
          }
        }
      ],
      "source": [
        "data = {}\n",
        "prior = {}\n",
        "post = {} \n",
        "key = jax.random.PRNGKey(5)\n",
        "\n",
        "n_points=10 # number of sample data points\n",
        "\n",
        "#Part A\n",
        "z = jnp.array([0.5,0.5])\n",
        "sigma_data = 0.1 * jnp.array([[2, 1], [1, 1]])\n",
        "\n",
        "data[\"mu\"] = z\n",
        "data[\"Sigma\"] = sigma_data\n",
        "sample_points = gaussSample(data[\"mu\"], data[\"Sigma\"], n_points,key)\n",
        "make_graph(sample_points,z,'gauss_infer_2d_(a)_latexified','Data (Bivariate Gaussian Distribution)')\n",
        "\n",
        "#Part B\n",
        "xyrange = jnp.array([[-1, 1], [-1, 1]])\n",
        "npoints = 100j\n",
        "prior[\"mu\"] = jnp.array([0, 0])\n",
        "prior[\"Sigma\"] = 0.1 * jnp.eye(2)\n",
        "mesh = jnp.mgrid[xyrange[0, 0] : xyrange[0, 1] : npoints, xyrange[1, 0] : xyrange[1, 1] : npoints]\n",
        "x1, x2 = mesh[0], mesh[1]\n",
        "points = jnp.vstack([jnp.ravel(x1), jnp.ravel(x2)]).T\n",
        "prior_pdf = multivariate_normal.pdf(points, mean=prior[\"mu\"], cov=prior[\"Sigma\"]).reshape(x1.shape[0], x2.shape[0])\n",
        "\n",
        "make_graph2(x1,x2,prior_pdf,'gauss_infer_2d_(b)_latexified','Prior : multivariate normal pdf contour plot')\n",
        "\n",
        "#Part C\n",
        "data_after_n = sample_points[: n_points, :]\n",
        "n = n_points\n",
        "s0 = prior[\"Sigma\"]\n",
        "s0_inv = inv(s0)\n",
        "s = sigma_data\n",
        "s_inv = inv(s)\n",
        "s_n = inv(s0_inv + n * s_inv )\n",
        "mu0 = prior[\"mu\"]\n",
        "mean = jnp.mean(data_after_n, 0)\n",
        "mu_n =jnp.dot(s_n, (jnp.dot(n, jnp.dot(s_inv , mean)) + jnp.dot(s0_inv, mu0)))\n",
        "post[\"mu\"] = mu_n\n",
        "post[\"Sigma\"] = s_n\n",
        "post_pdf = multivariate_normal.pdf(points, mean=post[\"mu\"], cov=post[\"Sigma\"]).reshape(x1.shape[0], x2.shape[0])\n",
        "make_graph2(x1,x2,post_pdf,'gauss_infer_2d_(c)_latexified','Posterior after '+str(n)+' points')\n"
      ]
    },
    {
      "cell_type": "code",
      "source": [
        "fig, (ax1, ax2,ax3) = plt.subplots(1,3,figsize=(24,8))\n",
        "make_graph(sample_points,z,'','Data (Bivariate Gaussian Distribution)',fig=fig,ax=ax1)\n",
        "make_graph2(x1,x2,prior_pdf,'','Prior : multivariate normal pdf contour plot',fig=fig,ax=ax2)\n",
        "make_graph2(x1,x2,post_pdf,'','Posterior after '+str(n)+' points',fig=fig,ax=ax3)\n",
        "plt.show()"
      ],
      "metadata": {
        "colab": {
          "base_uri": "https://localhost:8080/",
          "height": 481
        },
        "id": "j7lS5tD4byLk",
        "outputId": "f3ab43b6-1809-4380-f488-693f419e4159"
      },
      "execution_count": 13,
      "outputs": [
        {
          "output_type": "stream",
          "name": "stderr",
          "text": [
            "WARNING:matplotlib.legend:No handles with labels found to put in legend.\n"
          ]
        },
        {
          "output_type": "display_data",
          "data": {
            "text/plain": [
              "<Figure size 1728x576 with 5 Axes>"
            ],
            "image/png": "[encoded data removed]"
          },
          "metadata": {
            "needs_background": "light"
          }
        }
      ]
    },
    {
      "cell_type": "code",
      "execution_count": 14,
      "metadata": {
        "colab": {
          "base_uri": "https://localhost:8080/",
          "height": 361,
          "referenced_widgets": [
            "ca5d189dd0fc41b891b7b91df2a33a4e",
            "9364fb4fc4ad4dd7bdf0848fe8e31f1c",
            "9872a4cf482544f89ab1d38b3ac9c66a",
            "d42e786e1eba48fa82bea77c28573884",
            "a86bd9498cee4415afad2e1e7dce8636",
            "93128c40338a497fa6f94081df14dd9b",
            "3340b584230f4b1db12b9794a964f1b9",
            "57ca08c946514c1895fe358f4e0cf8c8",
            "7d629ab8a5364fd48d5d2cf18789902a",
            "68a3c1b17b0a4524a1cf5ea670d24924"
          ]
        },
        "id": "SV_IOj6wJRAq",
        "outputId": "315e0365-bb65-49a2-e8b8-1ce1c407717d"
      },
      "outputs": [
        {
          "output_type": "display_data",
          "data": {
            "text/plain": [
              "interactive(children=(IntSlider(value=5, description='random_state', max=10, min=1), IntSlider(value=10, descr…"
            ],
            "application/vnd.jupyter.widget-view+json": {
              "version_major": 2,
              "version_minor": 0,
              "model_id": "ca5d189dd0fc41b891b7b91df2a33a4e"
            }
          },
          "metadata": {}
        }
      ],
      "source": [
        "from ipywidgets import interact\n",
        "\n",
        "@interact(random_state=(1, 10),n_=(1,20))\n",
        "def generate_random(random_state,n_=10):\n",
        "    key = jax.random.PRNGKey(random_state)\n",
        "    sample_points = gaussSample(data[\"mu\"], data[\"Sigma\"], n_,key)\n",
        "    make_graph(sample_points,z,'','Data (Bivariate Gaussian Distribution)')\n",
        "    plt.show()\n"
      ]
    },
    {
      "cell_type": "code",
      "source": [
        ""
      ],
      "metadata": {
        "id": "vR0UCid0V__t"
      },
      "execution_count": null,
      "outputs": []
    }
  ],
  "metadata": {
    "colab": {
      "name": "gauss_infer_2d.ipynb",
      "provenance": [],
      "collapsed_sections": []
    },
    "kernelspec": {
      "display_name": "Python 3",
      "name": "python3"
    },
    "language_info": {
      "name": "python"
    },
    "widgets": {
      "application/vnd.jupyter.widget-state+json": {
        "ca5d189dd0fc41b891b7b91df2a33a4e": {
          "model_module": "@jupyter-widgets/controls",
          "model_name": "VBoxModel",
          "model_module_version": "1.5.0",
          "state": {
            "_dom_classes": [
              "widget-interact"
            ],
            "_model_module": "@jupyter-widgets/controls",
            "_model_module_version": "1.5.0",
            "_model_name": "VBoxModel",
            "_view_count": null,
            "_view_module": "@jupyter-widgets/controls",
            "_view_module_version": "1.5.0",
            "_view_name": "VBoxView",
            "box_style": "",
            "children": [
              "IPY_MODEL_9364fb4fc4ad4dd7bdf0848fe8e31f1c",
              "IPY_MODEL_9872a4cf482544f89ab1d38b3ac9c66a",
              "IPY_MODEL_d42e786e1eba48fa82bea77c28573884"
            ],
            "layout": "IPY_MODEL_a86bd9498cee4415afad2e1e7dce8636"
          }
        },
        "9364fb4fc4ad4dd7bdf0848fe8e31f1c": {
          "model_module": "@jupyter-widgets/controls",
          "model_name": "IntSliderModel",
          "model_module_version": "1.5.0",
          "state": {
            "_dom_classes": [],
            "_model_module": "@jupyter-widgets/controls",
            "_model_module_version": "1.5.0",
            "_model_name": "IntSliderModel",
            "_view_count": null,
            "_view_module": "@jupyter-widgets/controls",
            "_view_module_version": "1.5.0",
            "_view_name": "IntSliderView",
            "continuous_update": true,
            "description": "random_state",
            "description_tooltip": null,
            "disabled": false,
            "layout": "IPY_MODEL_93128c40338a497fa6f94081df14dd9b",
            "max": 10,
            "min": 1,
            "orientation": "horizontal",
            "readout": true,
            "readout_format": "d",
            "step": 1,
            "style": "IPY_MODEL_3340b584230f4b1db12b9794a964f1b9",
            "value": 5
          }
        },
        "9872a4cf482544f89ab1d38b3ac9c66a": {
          "model_module": "@jupyter-widgets/controls",
          "model_name": "IntSliderModel",
          "model_module_version": "1.5.0",
          "state": {
            "_dom_classes": [],
            "_model_module": "@jupyter-widgets/controls",
            "_model_module_version": "1.5.0",
            "_model_name": "IntSliderModel",
            "_view_count": null,
            "_view_module": "@jupyter-widgets/controls",
            "_view_module_version": "1.5.0",
            "_view_name": "IntSliderView",
            "continuous_update": true,
            "description": "n_",
            "description_tooltip": null,
            "disabled": false,
            "layout": "IPY_MODEL_57ca08c946514c1895fe358f4e0cf8c8",
            "max": 20,
            "min": 1,
            "orientation": "horizontal",
            "readout": true,
            "readout_format": "d",
            "step": 1,
            "style": "IPY_MODEL_7d629ab8a5364fd48d5d2cf18789902a",
            "value": 10
          }
        },
        "d42e786e1eba48fa82bea77c28573884": {
          "model_module": "@jupyter-widgets/output",
          "model_name": "OutputModel",
          "model_module_version": "1.0.0",
          "state": {
            "_dom_classes": [],
            "_model_module": "@jupyter-widgets/output",
            "_model_module_version": "1.0.0",
            "_model_name": "OutputModel",
            "_view_count": null,
            "_view_module": "@jupyter-widgets/output",
            "_view_module_version": "1.0.0",
            "_view_name": "OutputView",
            "layout": "IPY_MODEL_68a3c1b17b0a4524a1cf5ea670d24924",
            "msg_id": "",
            "outputs": [
              {
                "output_type": "display_data",
                "data": {
                  "text/plain": "<Figure size 432x288 with 1 Axes>",
                  "image/png": "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\n"
                },
                "metadata": {
                  "needs_background": "light"
                }
              }
            ]
          }
        },
        "a86bd9498cee4415afad2e1e7dce8636": {
          "model_module": "@jupyter-widgets/base",
          "model_name": "LayoutModel",
          "model_module_version": "1.2.0",
          "state": {
            "_model_module": "@jupyter-widgets/base",
            "_model_module_version": "1.2.0",
            "_model_name": "LayoutModel",
            "_view_count": null,
            "_view_module": "@jupyter-widgets/base",
            "_view_module_version": "1.2.0",
            "_view_name": "LayoutView",
            "align_content": null,
            "align_items": null,
            "align_self": null,
            "border": null,
            "bottom": null,
            "display": null,
            "flex": null,
            "flex_flow": null,
            "grid_area": null,
            "grid_auto_columns": null,
            "grid_auto_flow": null,
            "grid_auto_rows": null,
            "grid_column": null,
            "grid_gap": null,
            "grid_row": null,
            "grid_template_areas": null,
            "grid_template_columns": null,
            "grid_template_rows": null,
            "height": null,
            "justify_content": null,
            "justify_items": null,
            "left": null,
            "margin": null,
            "max_height": null,
            "max_width": null,
            "min_height": null,
            "min_width": null,
            "object_fit": null,
            "object_position": null,
            "order": null,
            "overflow": null,
            "overflow_x": null,
            "overflow_y": null,
            "padding": null,
            "right": null,
            "top": null,
            "visibility": null,
            "width": null
          }
        },
        "93128c40338a497fa6f94081df14dd9b": {
          "model_module": "@jupyter-widgets/base",
          "model_name": "LayoutModel",
          "model_module_version": "1.2.0",
          "state": {
            "_model_module": "@jupyter-widgets/base",
            "_model_module_version": "1.2.0",
            "_model_name": "LayoutModel",
            "_view_count": null,
            "_view_module": "@jupyter-widgets/base",
            "_view_module_version": "1.2.0",
            "_view_name": "LayoutView",
            "align_content": null,
            "align_items": null,
            "align_self": null,
            "border": null,
            "bottom": null,
            "display": null,
            "flex": null,
            "flex_flow": null,
            "grid_area": null,
            "grid_auto_columns": null,
            "grid_auto_flow": null,
            "grid_auto_rows": null,
            "grid_column": null,
            "grid_gap": null,
            "grid_row": null,
            "grid_template_areas": null,
            "grid_template_columns": null,
            "grid_template_rows": null,
            "height": null,
            "justify_content": null,
            "justify_items": null,
            "left": null,
            "margin": null,
            "max_height": null,
            "max_width": null,
            "min_height": null,
            "min_width": null,
            "object_fit": null,
            "object_position": null,
            "order": null,
            "overflow": null,
            "overflow_x": null,
            "overflow_y": null,
            "padding": null,
            "right": null,
            "top": null,
            "visibility": null,
            "width": null
          }
        },
        "3340b584230f4b1db12b9794a964f1b9": {
          "model_module": "@jupyter-widgets/controls",
          "model_name": "SliderStyleModel",
          "model_module_version": "1.5.0",
          "state": {
            "_model_module": "@jupyter-widgets/controls",
            "_model_module_version": "1.5.0",
            "_model_name": "SliderStyleModel",
            "_view_count": null,
            "_view_module": "@jupyter-widgets/base",
            "_view_module_version": "1.2.0",
            "_view_name": "StyleView",
            "description_width": "",
            "handle_color": null
          }
        },
        "57ca08c946514c1895fe358f4e0cf8c8": {
          "model_module": "@jupyter-widgets/base",
          "model_name": "LayoutModel",
          "model_module_version": "1.2.0",
          "state": {
            "_model_module": "@jupyter-widgets/base",
            "_model_module_version": "1.2.0",
            "_model_name": "LayoutModel",
            "_view_count": null,
            "_view_module": "@jupyter-widgets/base",
            "_view_module_version": "1.2.0",
            "_view_name": "LayoutView",
            "align_content": null,
            "align_items": null,
            "align_self": null,
            "border": null,
            "bottom": null,
            "display": null,
            "flex": null,
            "flex_flow": null,
            "grid_area": null,
            "grid_auto_columns": null,
            "grid_auto_flow": null,
            "grid_auto_rows": null,
            "grid_column": null,
            "grid_gap": null,
            "grid_row": null,
            "grid_template_areas": null,
            "grid_template_columns": null,
            "grid_template_rows": null,
            "height": null,
            "justify_content": null,
            "justify_items": null,
            "left": null,
            "margin": null,
            "max_height": null,
            "max_width": null,
            "min_height": null,
            "min_width": null,
            "object_fit": null,
            "object_position": null,
            "order": null,
            "overflow": null,
            "overflow_x": null,
            "overflow_y": null,
            "padding": null,
            "right": null,
            "top": null,
            "visibility": null,
            "width": null
          }
        },
        "7d629ab8a5364fd48d5d2cf18789902a": {
          "model_module": "@jupyter-widgets/controls",
          "model_name": "SliderStyleModel",
          "model_module_version": "1.5.0",
          "state": {
            "_model_module": "@jupyter-widgets/controls",
            "_model_module_version": "1.5.0",
            "_model_name": "SliderStyleModel",
            "_view_count": null,
            "_view_module": "@jupyter-widgets/base",
            "_view_module_version": "1.2.0",
            "_view_name": "StyleView",
            "description_width": "",
            "handle_color": null
          }
        },
        "68a3c1b17b0a4524a1cf5ea670d24924": {
          "model_module": "@jupyter-widgets/base",
          "model_name": "LayoutModel",
          "model_module_version": "1.2.0",
          "state": {
            "_model_module": "@jupyter-widgets/base",
            "_model_module_version": "1.2.0",
            "_model_name": "LayoutModel",
            "_view_count": null,
            "_view_module": "@jupyter-widgets/base",
            "_view_module_version": "1.2.0",
            "_view_name": "LayoutView",
            "align_content": null,
            "align_items": null,
            "align_self": null,
            "border": null,
            "bottom": null,
            "display": null,
            "flex": null,
            "flex_flow": null,
            "grid_area": null,
            "grid_auto_columns": null,
            "grid_auto_flow": null,
            "grid_auto_rows": null,
            "grid_column": null,
            "grid_gap": null,
            "grid_row": null,
            "grid_template_areas": null,
            "grid_template_columns": null,
            "grid_template_rows": null,
            "height": null,
            "justify_content": null,
            "justify_items": null,
            "left": null,
            "margin": null,
            "max_height": null,
            "max_width": null,
            "min_height": null,
            "min_width": null,
            "object_fit": null,
            "object_position": null,
            "order": null,
            "overflow": null,
            "overflow_x": null,
            "overflow_y": null,
            "padding": null,
            "right": null,
            "top": null,
            "visibility": null,
            "width": null
          }
        }
      }
    }
  },
  "nbformat": 4,
  "nbformat_minor": 0
}